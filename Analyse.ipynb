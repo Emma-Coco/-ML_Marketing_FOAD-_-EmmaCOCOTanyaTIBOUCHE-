{
 "cells": [
  {
   "cell_type": "markdown",
   "metadata": {},
   "source": [
    "# Prédiction de réponse à une campagne marketing"
   ]
  },
  {
   "cell_type": "markdown",
   "metadata": {},
   "source": [
    "#### Contexte\n",
    "Une entreprise de e-commerce cherche à optimiser ses campagnes marketing en ciblant les clients les plus susceptibles d’y répondre.\n",
    "\n",
    "#### Objectif\n",
    "Développer un modèle permettant de prédire si un client répondra positivement à une campagne marketing à partir de ses comportements d’achat et ses données socio-démographiques."
   ]
  },
  {
   "cell_type": "markdown",
   "metadata": {},
   "source": [
    "## 1. Compréhension métier, définition du besoin"
   ]
  },
  {
   "cell_type": "markdown",
   "metadata": {},
   "source": [
    "### Compréhension du besoin : \n",
    "\n",
    "À partir des données dont nous disposons (âge, sexe, revenu annuel, temps passé sur site, achats en ligne) ; essayer de déterminer si un ou plusieurs facteurs permettendt de pouvoir prédire, avec un certain taux de certitude, le fait qu'une personne répondra positivement ou non à la campagne. \n",
    "\n",
    "\n",
    "Mesures (target) : taux de réponse (qu'elle soit positifve - 1 ou non - 0) à la campagne marketing\n",
    "\n",
    "Métriques : F1-Score"
   ]
  },
  {
   "cell_type": "markdown",
   "metadata": {},
   "source": [
    "## 2.1 et 2.2 Compréhension de la donnée (types de données, visualisations) et nettoyage si nécessaire"
   ]
  },
  {
   "cell_type": "code",
   "execution_count": 15,
   "metadata": {},
   "outputs": [],
   "source": [
    "import pandas as pd\n",
    "import numpy\n",
    "from sklearn.preprocessing import StandardScaler\n",
    "from sklearn.model_selection import train_test_split, GridSearchCV\n",
    "from sklearn.neighbors import KNeighborsClassifier\n",
    "from sklearn.decomposition import PCA\n",
    "from sklearn.metrics import classification_report,  confusion_matrix, f1_score\n",
    "import matplotlib.pyplot as plt\n",
    "import seaborn"
   ]
  },
  {
   "cell_type": "code",
   "execution_count": 16,
   "metadata": {},
   "outputs": [],
   "source": [
    "response_df = pd.read_csv(\"Dataset_Reponse_Marketing.csv\")"
   ]
  },
  {
   "cell_type": "code",
   "execution_count": 4,
   "metadata": {},
   "outputs": [
    {
     "data": {
      "text/html": [
       "<div>\n",
       "<style scoped>\n",
       "    .dataframe tbody tr th:only-of-type {\n",
       "        vertical-align: middle;\n",
       "    }\n",
       "\n",
       "    .dataframe tbody tr th {\n",
       "        vertical-align: top;\n",
       "    }\n",
       "\n",
       "    .dataframe thead th {\n",
       "        text-align: right;\n",
       "    }\n",
       "</style>\n",
       "<table border=\"1\" class=\"dataframe\">\n",
       "  <thead>\n",
       "    <tr style=\"text-align: right;\">\n",
       "      <th></th>\n",
       "      <th>Age</th>\n",
       "      <th>Sexe</th>\n",
       "      <th>Revenu_annuel</th>\n",
       "      <th>Temps_passe_sur_site</th>\n",
       "      <th>Achats_en_ligne</th>\n",
       "      <th>Reponse_campagne</th>\n",
       "    </tr>\n",
       "  </thead>\n",
       "  <tbody>\n",
       "    <tr>\n",
       "      <th>0</th>\n",
       "      <td>22</td>\n",
       "      <td>Homme</td>\n",
       "      <td>40124</td>\n",
       "      <td>16.518974</td>\n",
       "      <td>9</td>\n",
       "      <td>1</td>\n",
       "    </tr>\n",
       "    <tr>\n",
       "      <th>1</th>\n",
       "      <td>32</td>\n",
       "      <td>Femme</td>\n",
       "      <td>26307</td>\n",
       "      <td>21.973535</td>\n",
       "      <td>8</td>\n",
       "      <td>1</td>\n",
       "    </tr>\n",
       "    <tr>\n",
       "      <th>2</th>\n",
       "      <td>28</td>\n",
       "      <td>Femme</td>\n",
       "      <td>30040</td>\n",
       "      <td>26.762915</td>\n",
       "      <td>9</td>\n",
       "      <td>1</td>\n",
       "    </tr>\n",
       "    <tr>\n",
       "      <th>3</th>\n",
       "      <td>16</td>\n",
       "      <td>Femme</td>\n",
       "      <td>15843</td>\n",
       "      <td>29.046008</td>\n",
       "      <td>9</td>\n",
       "      <td>0</td>\n",
       "    </tr>\n",
       "    <tr>\n",
       "      <th>4</th>\n",
       "      <td>45</td>\n",
       "      <td>Homme</td>\n",
       "      <td>20225</td>\n",
       "      <td>21.479944</td>\n",
       "      <td>5</td>\n",
       "      <td>0</td>\n",
       "    </tr>\n",
       "    <tr>\n",
       "      <th>...</th>\n",
       "      <td>...</td>\n",
       "      <td>...</td>\n",
       "      <td>...</td>\n",
       "      <td>...</td>\n",
       "      <td>...</td>\n",
       "      <td>...</td>\n",
       "    </tr>\n",
       "    <tr>\n",
       "      <th>2395</th>\n",
       "      <td>26</td>\n",
       "      <td>Homme</td>\n",
       "      <td>34373</td>\n",
       "      <td>31.567494</td>\n",
       "      <td>10</td>\n",
       "      <td>1</td>\n",
       "    </tr>\n",
       "    <tr>\n",
       "      <th>2396</th>\n",
       "      <td>37</td>\n",
       "      <td>Femme</td>\n",
       "      <td>36249</td>\n",
       "      <td>26.347662</td>\n",
       "      <td>10</td>\n",
       "      <td>1</td>\n",
       "    </tr>\n",
       "    <tr>\n",
       "      <th>2397</th>\n",
       "      <td>30</td>\n",
       "      <td>Femme</td>\n",
       "      <td>34293</td>\n",
       "      <td>18.275369</td>\n",
       "      <td>7</td>\n",
       "      <td>0</td>\n",
       "    </tr>\n",
       "    <tr>\n",
       "      <th>2398</th>\n",
       "      <td>35</td>\n",
       "      <td>Homme</td>\n",
       "      <td>29447</td>\n",
       "      <td>17.211780</td>\n",
       "      <td>6</td>\n",
       "      <td>1</td>\n",
       "    </tr>\n",
       "    <tr>\n",
       "      <th>2399</th>\n",
       "      <td>39</td>\n",
       "      <td>Femme</td>\n",
       "      <td>28028</td>\n",
       "      <td>32.826752</td>\n",
       "      <td>10</td>\n",
       "      <td>0</td>\n",
       "    </tr>\n",
       "  </tbody>\n",
       "</table>\n",
       "<p>2400 rows × 6 columns</p>\n",
       "</div>"
      ],
      "text/plain": [
       "      Age   Sexe  Revenu_annuel  Temps_passe_sur_site  Achats_en_ligne  \\\n",
       "0      22  Homme          40124             16.518974                9   \n",
       "1      32  Femme          26307             21.973535                8   \n",
       "2      28  Femme          30040             26.762915                9   \n",
       "3      16  Femme          15843             29.046008                9   \n",
       "4      45  Homme          20225             21.479944                5   \n",
       "...   ...    ...            ...                   ...              ...   \n",
       "2395   26  Homme          34373             31.567494               10   \n",
       "2396   37  Femme          36249             26.347662               10   \n",
       "2397   30  Femme          34293             18.275369                7   \n",
       "2398   35  Homme          29447             17.211780                6   \n",
       "2399   39  Femme          28028             32.826752               10   \n",
       "\n",
       "      Reponse_campagne  \n",
       "0                    1  \n",
       "1                    1  \n",
       "2                    1  \n",
       "3                    0  \n",
       "4                    0  \n",
       "...                ...  \n",
       "2395                 1  \n",
       "2396                 1  \n",
       "2397                 0  \n",
       "2398                 1  \n",
       "2399                 0  \n",
       "\n",
       "[2400 rows x 6 columns]"
      ]
     },
     "execution_count": 4,
     "metadata": {},
     "output_type": "execute_result"
    }
   ],
   "source": [
    "response_df"
   ]
  },
  {
   "cell_type": "code",
   "execution_count": 5,
   "metadata": {},
   "outputs": [
    {
     "name": "stdout",
     "output_type": "stream",
     "text": [
      "Age                     0\n",
      "Sexe                    0\n",
      "Revenu_annuel           0\n",
      "Temps_passe_sur_site    0\n",
      "Achats_en_ligne         0\n",
      "Reponse_campagne        0\n",
      "dtype: int64\n"
     ]
    }
   ],
   "source": [
    "print(response_df.isnull().sum())"
   ]
  },
  {
   "cell_type": "code",
   "execution_count": 6,
   "metadata": {},
   "outputs": [
    {
     "name": "stdout",
     "output_type": "stream",
     "text": [
      "Age                     0\n",
      "Sexe                    0\n",
      "Revenu_annuel           0\n",
      "Temps_passe_sur_site    0\n",
      "Achats_en_ligne         0\n",
      "Reponse_campagne        0\n",
      "dtype: int64\n",
      "Age                     0\n",
      "Sexe                    0\n",
      "Revenu_annuel           0\n",
      "Temps_passe_sur_site    0\n",
      "Achats_en_ligne         0\n",
      "Reponse_campagne        0\n",
      "dtype: int64\n",
      "Age                     0\n",
      "Sexe                    0\n",
      "Revenu_annuel           0\n",
      "Temps_passe_sur_site    0\n",
      "Achats_en_ligne         0\n",
      "Reponse_campagne        0\n",
      "dtype: int64\n"
     ]
    }
   ],
   "source": [
    "print((response_df == \"?\").sum())\n",
    "print((response_df == \"NA\").sum())\n",
    "print((response_df == \"None\").sum())"
   ]
  },
  {
   "cell_type": "code",
   "execution_count": 7,
   "metadata": {},
   "outputs": [
    {
     "name": "stdout",
     "output_type": "stream",
     "text": [
      "Age                       int64\n",
      "Sexe                     object\n",
      "Revenu_annuel             int64\n",
      "Temps_passe_sur_site    float64\n",
      "Achats_en_ligne           int64\n",
      "Reponse_campagne          int64\n",
      "dtype: object\n"
     ]
    }
   ],
   "source": [
    "print(response_df.dtypes)"
   ]
  },
  {
   "cell_type": "code",
   "execution_count": 10,
   "metadata": {},
   "outputs": [
    {
     "name": "stdout",
     "output_type": "stream",
     "text": [
      "\n",
      "Informations sur le DataFrame :\n",
      "Nombre de customers : 2400\n",
      "Nombre de variables : 5\n",
      "\n",
      "Statistiques descriptives :\n",
      "               Age  Revenu_annuel  Temps_passe_sur_site  Achats_en_ligne  \\\n",
      "count  2400.000000    2400.000000           2400.000000      2400.000000   \n",
      "mean     34.611250   26197.005000             22.073762         7.642083   \n",
      "std      10.087287    7062.015627              3.993837         1.612471   \n",
      "min      -1.000000    4422.000000              8.656394         2.000000   \n",
      "25%      28.000000   21414.250000             19.381206         7.000000   \n",
      "50%      35.000000   26222.000000             22.072839         8.000000   \n",
      "75%      42.000000   30909.250000             24.798229         9.000000   \n",
      "max      79.000000   50002.000000             37.769324        13.000000   \n",
      "\n",
      "       Reponse_campagne  \n",
      "count       2400.000000  \n",
      "mean           0.526250  \n",
      "std            0.499415  \n",
      "min            0.000000  \n",
      "25%            0.000000  \n",
      "50%            1.000000  \n",
      "75%            1.000000  \n",
      "max            1.000000  \n"
     ]
    }
   ],
   "source": [
    "print(\"\\nInformations sur le DataFrame :\")\n",
    "print(f\"Nombre de customers : {response_df.shape[0]}\")\n",
    "print(f\"Nombre de variables : {response_df.shape[1] - 1}\")  # -1 pour exclure la colonne 'Eleve'\n",
    "print(\"\\nStatistiques descriptives :\")\n",
    "print(response_df.describe())"
   ]
  },
  {
   "cell_type": "code",
   "execution_count": 24,
   "metadata": {},
   "outputs": [
    {
     "name": "stdout",
     "output_type": "stream",
     "text": [
      "Reponse_campagne\n",
      "1    1263\n",
      "0    1137\n",
      "Name: count, dtype: int64\n"
     ]
    }
   ],
   "source": [
    "print(response_df[\"Reponse_campagne\"].value_counts())"
   ]
  },
  {
   "cell_type": "markdown",
   "metadata": {},
   "source": [
    "Observation : répartition dans les catégories de Target équilibrée"
   ]
  },
  {
   "cell_type": "code",
   "execution_count": 25,
   "metadata": {},
   "outputs": [],
   "source": [
    "# Mettre les données de type \"sexe\" catégorielles en données numériques dichotomiques\n",
    "\n",
    "response_encoded = pd.get_dummies(response_df, columns=[\"Sexe\"], drop_first=True)"
   ]
  },
  {
   "cell_type": "markdown",
   "metadata": {},
   "source": [
    "### Matrice de corrélation"
   ]
  },
  {
   "cell_type": "code",
   "execution_count": 38,
   "metadata": {},
   "outputs": [
    {
     "data": {
      "image/png": "[encoded data removed]",
      "text/plain": [
       "<Figure size 1200x1200 with 2 Axes>"
      ]
     },
     "metadata": {},
     "output_type": "display_data"
    }
   ],
   "source": [
    "corr_matrix = response_encoded.corr()\n",
    "plt.figure(figsize=(12, 12))\n",
    "seaborn.heatmap(corr_matrix, annot=True, fmt=\".2f\", cmap=\"coolwarm\", linewidths=0.5)\n",
    "\n",
    "plt.title(\"Matrice de corrélation\")\n",
    "plt.show()"
   ]
  },
  {
   "cell_type": "markdown",
   "metadata": {},
   "source": [
    "Observations corrélation : \n",
    "\n",
    "Presque toutes les cases sont en bleu, ce qui nous montre ici une ABSENCE DE CORRELATION entre toutes les variables, aucune hétérogénéité (à part une corrélation un peu plus élevée de .06 entre le temps passé sur le site et les achats en ligne).\n",
    "\n",
    "Ceci donne l'impression qu'aucune variable n'est discriminante dans notre jeu de données.\n",
    "\n",
    "Les seuls éléments (corrélations) remarquables ici "
   ]
  },
  {
   "cell_type": "markdown",
   "metadata": {},
   "source": [
    "### Standardisation des données"
   ]
  },
  {
   "cell_type": "code",
   "execution_count": 21,
   "metadata": {},
   "outputs": [],
   "source": [
    "# Séparation des variables (suivant votre exemple)\n",
    "problem = response_df.drop(\"Reponse_campagne\", axis=1)\n",
    "solution = response_df[\"Reponse_campagne\"]"
   ]
  },
  {
   "cell_type": "code",
   "execution_count": 23,
   "metadata": {},
   "outputs": [
    {
     "name": "stdout",
     "output_type": "stream",
     "text": [
      "=== DONNÉES STANDARDISÉES ===\n",
      "Aperçu :\n",
      "        Age      Sexe  Revenu_annuel  Temps_passe_sur_site  Achats_en_ligne\n",
      "0 -1.250473 -1.032184       1.972510             -1.391130         0.842310\n",
      "1 -0.258919  0.968819       0.015579             -0.025101         0.222014\n",
      "2 -0.655541  0.968819       0.544292              1.174342         0.842310\n",
      "3 -1.845405  0.968819      -1.466460              1.746115         0.842310\n",
      "4  1.030100 -1.032184      -0.845828             -0.148715        -1.638872\n",
      "\n",
      "Statistiques descriptives :\n",
      "                Age          Sexe  Revenu_annuel  Temps_passe_sur_site  \\\n",
      "count  2.400000e+03  2.400000e+03   2.400000e+03          2.400000e+03   \n",
      "mean   1.467345e-16 -4.440892e-17  -1.406282e-16         -8.615331e-16   \n",
      "std    1.000208e+00  1.000208e+00   1.000208e+00          1.000208e+00   \n",
      "min   -3.531046e+00 -1.032184e+00  -3.084041e+00         -3.360219e+00   \n",
      "25%   -6.555408e-01 -1.032184e+00  -6.773918e-01         -6.743182e-01   \n",
      "50%    3.854664e-02  9.688192e-01   3.540095e-03         -2.311062e-04   \n",
      "75%    7.326341e-01  9.688192e-01   6.674054e-01          6.823102e-01   \n",
      "max    4.401382e+00  9.688192e-01   3.371552e+00          3.930765e+00   \n",
      "\n",
      "       Achats_en_ligne  \n",
      "count     2.400000e+03  \n",
      "mean      2.923587e-16  \n",
      "std       1.000208e+00  \n",
      "min      -3.499759e+00  \n",
      "25%      -3.982814e-01  \n",
      "50%       2.220141e-01  \n",
      "75%       8.423096e-01  \n",
      "max       3.323491e+00  \n",
      "\n",
      "=== VÉRIFICATION DE LA STANDARDISATION ===\n",
      "Moyennes (doivent être ≈ 0) :\n",
      "Age                     0.0\n",
      "Sexe                   -0.0\n",
      "Revenu_annuel          -0.0\n",
      "Temps_passe_sur_site   -0.0\n",
      "Achats_en_ligne         0.0\n",
      "dtype: float64\n",
      "\n",
      "Écarts-types (doivent être ≈ 1) :\n",
      "Age                     1.000208\n",
      "Sexe                    1.000208\n",
      "Revenu_annuel           1.000208\n",
      "Temps_passe_sur_site    1.000208\n",
      "Achats_en_ligne         1.000208\n",
      "dtype: float64\n"
     ]
    }
   ],
   "source": [
    "# Encodage avec get_dummies\n",
    "problem_encoded = pd.get_dummies(problem, columns=['Sexe'], drop_first=True)\n",
    "\n",
    "# Standardisation\n",
    "scaler_object = StandardScaler()\n",
    "normalized_problem = scaler_object.fit_transform(problem_encoded)\n",
    "\n",
    "# DataFrame standardisé\n",
    "normalized_df = pd.DataFrame(normalized_problem, columns=problem_encoded.columns)\n",
    "\n",
    "print(\"=== DONNÉES STANDARDISÉES ===\")\n",
    "print(\"Aperçu :\")\n",
    "print(normalized_df.head())\n",
    "\n",
    "print(f\"\\nStatistiques descriptives :\")\n",
    "print(normalized_df.describe())\n",
    "\n",
    "print(f\"\\n=== VÉRIFICATION DE LA STANDARDISATION ===\")\n",
    "print(\"Moyennes (doivent être ≈ 0) :\")\n",
    "print(normalized_df.mean().round(10))\n",
    "print(f\"\\nÉcarts-types (doivent être ≈ 1) :\")\n",
    "print(normalized_df.std().round(10))"
   ]
  },
  {
   "cell_type": "markdown",
   "metadata": {},
   "source": [
    "## 3. Modélisation (modèles, métriques)"
   ]
  },
  {
   "cell_type": "code",
   "execution_count": 34,
   "metadata": {},
   "outputs": [],
   "source": [
    "x_train, x_test, y_train, y_test = train_test_split(normalized_problem, solution)"
   ]
  },
  {
   "cell_type": "markdown",
   "metadata": {},
   "source": [
    "### PCA"
   ]
  },
  {
   "cell_type": "code",
   "execution_count": 35,
   "metadata": {},
   "outputs": [
    {
     "data": {
      "text/html": [
       "<div>\n",
       "<style scoped>\n",
       "    .dataframe tbody tr th:only-of-type {\n",
       "        vertical-align: middle;\n",
       "    }\n",
       "\n",
       "    .dataframe tbody tr th {\n",
       "        vertical-align: top;\n",
       "    }\n",
       "\n",
       "    .dataframe thead th {\n",
       "        text-align: right;\n",
       "    }\n",
       "</style>\n",
       "<table border=\"1\" class=\"dataframe\">\n",
       "  <thead>\n",
       "    <tr style=\"text-align: right;\">\n",
       "      <th></th>\n",
       "      <th>0</th>\n",
       "      <th>1</th>\n",
       "      <th>2</th>\n",
       "      <th>3</th>\n",
       "      <th>4</th>\n",
       "    </tr>\n",
       "  </thead>\n",
       "  <tbody>\n",
       "    <tr>\n",
       "      <th>PC_1</th>\n",
       "      <td>0.020916</td>\n",
       "      <td>-0.010351</td>\n",
       "      <td>0.402856</td>\n",
       "      <td>0.579210</td>\n",
       "      <td>0.708293</td>\n",
       "    </tr>\n",
       "    <tr>\n",
       "      <th>PC_2</th>\n",
       "      <td>-0.448811</td>\n",
       "      <td>0.742995</td>\n",
       "      <td>0.408519</td>\n",
       "      <td>-0.281358</td>\n",
       "      <td>0.021840</td>\n",
       "    </tr>\n",
       "    <tr>\n",
       "      <th>PC_3</th>\n",
       "      <td>0.539649</td>\n",
       "      <td>-0.216916</td>\n",
       "      <td>0.654455</td>\n",
       "      <td>-0.483116</td>\n",
       "      <td>0.003730</td>\n",
       "    </tr>\n",
       "    <tr>\n",
       "      <th>PC_4</th>\n",
       "      <td>0.711859</td>\n",
       "      <td>0.632929</td>\n",
       "      <td>-0.258039</td>\n",
       "      <td>0.161446</td>\n",
       "      <td>0.002969</td>\n",
       "    </tr>\n",
       "    <tr>\n",
       "      <th>PC_5</th>\n",
       "      <td>-0.012953</td>\n",
       "      <td>-0.014125</td>\n",
       "      <td>-0.419432</td>\n",
       "      <td>-0.570865</td>\n",
       "      <td>0.705565</td>\n",
       "    </tr>\n",
       "  </tbody>\n",
       "</table>\n",
       "</div>"
      ],
      "text/plain": [
       "             0         1         2         3         4\n",
       "PC_1  0.020916 -0.010351  0.402856  0.579210  0.708293\n",
       "PC_2 -0.448811  0.742995  0.408519 -0.281358  0.021840\n",
       "PC_3  0.539649 -0.216916  0.654455 -0.483116  0.003730\n",
       "PC_4  0.711859  0.632929 -0.258039  0.161446  0.002969\n",
       "PC_5 -0.012953 -0.014125 -0.419432 -0.570865  0.705565"
      ]
     },
     "execution_count": 35,
     "metadata": {},
     "output_type": "execute_result"
    }
   ],
   "source": [
    "pca_object = PCA()\n",
    "\n",
    "x_train_pca = pca_object.fit_transform(x_train)\n",
    "\n",
    "problem = pd.DataFrame(normalized_problem)\n",
    "pd.DataFrame(pca_object.components_, columns=problem.columns, index=[f\"PC_{number}\" for number in range(1, len(problem.columns) +1)])\n"
   ]
  },
  {
   "cell_type": "code",
   "execution_count": 36,
   "metadata": {},
   "outputs": [
    {
     "name": "stdout",
     "output_type": "stream",
     "text": [
      "explained_variance: 5\n",
      "cumulative_variance: 5\n"
     ]
    }
   ],
   "source": [
    "explained_variance = pca_object.explained_variance_ratio_\n",
    "cumulative_variance = numpy.cumsum(explained_variance)\n",
    "print(\"explained_variance:\", len(explained_variance))\n",
    "print(\"cumulative_variance:\", len(cumulative_variance))"
   ]
  },
  {
   "cell_type": "code",
   "execution_count": 37,
   "metadata": {},
   "outputs": [
    {
     "data": {
      "image/png": "[encoded data removed]",
      "text/plain": [
       "<Figure size 1000x500 with 1 Axes>"
      ]
     },
     "metadata": {},
     "output_type": "display_data"
    }
   ],
   "source": [
    "n = len(explained_variance)\n",
    "plt.figure(figsize=(10, 5))\n",
    "plt.xticks(ticks= range(1,n+1))\n",
    "plt.bar(range(1, n+1), explained_variance)\n",
    "plt.plot(range(1, n+1), cumulative_variance, \"o:\")\n",
    "plt.show()"
   ]
  },
  {
   "cell_type": "markdown",
   "metadata": {},
   "source": [
    "## 4. Validation"
   ]
  }
 ],
 "metadata": {
  "kernelspec": {
   "display_name": "Python 3",
   "language": "python",
   "name": "python3"
  },
  "language_info": {
   "codemirror_mode": {
    "name": "ipython",
    "version": 3
   },
   "file_extension": ".py",
   "mimetype": "text/x-python",
   "name": "python",
   "nbconvert_exporter": "python",
   "pygments_lexer": "ipython3",
   "version": "3.9.6"
  }
 },
 "nbformat": 4,
 "nbformat_minor": 2
}
